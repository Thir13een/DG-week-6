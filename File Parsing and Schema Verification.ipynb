{
 "cells": [
  {
   "cell_type": "code",
   "execution_count": 1,
   "id": "77355717",
   "metadata": {},
   "outputs": [],
   "source": [
    "import pandas as pd"
   ]
  },
  {
   "cell_type": "code",
   "execution_count": 2,
   "id": "b102e465",
   "metadata": {},
   "outputs": [
    {
     "data": {
      "text/html": [
       "<div>\n",
       "<style scoped>\n",
       "    .dataframe tbody tr th:only-of-type {\n",
       "        vertical-align: middle;\n",
       "    }\n",
       "\n",
       "    .dataframe tbody tr th {\n",
       "        vertical-align: top;\n",
       "    }\n",
       "\n",
       "    .dataframe thead th {\n",
       "        text-align: right;\n",
       "    }\n",
       "</style>\n",
       "<table border=\"1\" class=\"dataframe\">\n",
       "  <thead>\n",
       "    <tr style=\"text-align: right;\">\n",
       "      <th></th>\n",
       "      <th>Id</th>\n",
       "      <th>Title</th>\n",
       "      <th>Price</th>\n",
       "      <th>User_id</th>\n",
       "      <th>profileName</th>\n",
       "      <th>review/helpfulness</th>\n",
       "      <th>review/score</th>\n",
       "      <th>review/time</th>\n",
       "      <th>review/summary</th>\n",
       "      <th>review/text</th>\n",
       "    </tr>\n",
       "  </thead>\n",
       "  <tbody>\n",
       "    <tr>\n",
       "      <th>0</th>\n",
       "      <td>1882931173</td>\n",
       "      <td>Its Only Art If Its Well Hung!</td>\n",
       "      <td>NaN</td>\n",
       "      <td>AVCGYZL8FQQTD</td>\n",
       "      <td>Jim of Oz \"jim-of-oz\"</td>\n",
       "      <td>7/7</td>\n",
       "      <td>4.0</td>\n",
       "      <td>940636800</td>\n",
       "      <td>Nice collection of Julie Strain images</td>\n",
       "      <td>This is only for Julie Strain fans. It's a col...</td>\n",
       "    </tr>\n",
       "    <tr>\n",
       "      <th>1</th>\n",
       "      <td>0826414346</td>\n",
       "      <td>Dr. Seuss: American Icon</td>\n",
       "      <td>NaN</td>\n",
       "      <td>A30TK6U7DNS82R</td>\n",
       "      <td>Kevin Killian</td>\n",
       "      <td>10/10</td>\n",
       "      <td>5.0</td>\n",
       "      <td>1095724800</td>\n",
       "      <td>Really Enjoyed It</td>\n",
       "      <td>I don't care much for Dr. Seuss but after read...</td>\n",
       "    </tr>\n",
       "    <tr>\n",
       "      <th>2</th>\n",
       "      <td>0826414346</td>\n",
       "      <td>Dr. Seuss: American Icon</td>\n",
       "      <td>NaN</td>\n",
       "      <td>A3UH4UZ4RSVO82</td>\n",
       "      <td>John Granger</td>\n",
       "      <td>10/11</td>\n",
       "      <td>5.0</td>\n",
       "      <td>1078790400</td>\n",
       "      <td>Essential for every personal and Public Library</td>\n",
       "      <td>If people become the books they read and if \"t...</td>\n",
       "    </tr>\n",
       "    <tr>\n",
       "      <th>3</th>\n",
       "      <td>0826414346</td>\n",
       "      <td>Dr. Seuss: American Icon</td>\n",
       "      <td>NaN</td>\n",
       "      <td>A2MVUWT453QH61</td>\n",
       "      <td>Roy E. Perry \"amateur philosopher\"</td>\n",
       "      <td>7/7</td>\n",
       "      <td>4.0</td>\n",
       "      <td>1090713600</td>\n",
       "      <td>Phlip Nel gives silly Seuss a serious treatment</td>\n",
       "      <td>Theodore Seuss Geisel (1904-1991), aka &amp;quot;D...</td>\n",
       "    </tr>\n",
       "    <tr>\n",
       "      <th>4</th>\n",
       "      <td>0826414346</td>\n",
       "      <td>Dr. Seuss: American Icon</td>\n",
       "      <td>NaN</td>\n",
       "      <td>A22X4XUPKF66MR</td>\n",
       "      <td>D. H. Richards \"ninthwavestore\"</td>\n",
       "      <td>3/3</td>\n",
       "      <td>4.0</td>\n",
       "      <td>1107993600</td>\n",
       "      <td>Good academic overview</td>\n",
       "      <td>Philip Nel - Dr. Seuss: American IconThis is b...</td>\n",
       "    </tr>\n",
       "  </tbody>\n",
       "</table>\n",
       "</div>"
      ],
      "text/plain": [
       "           Id                           Title  Price         User_id  \\\n",
       "0  1882931173  Its Only Art If Its Well Hung!    NaN   AVCGYZL8FQQTD   \n",
       "1  0826414346        Dr. Seuss: American Icon    NaN  A30TK6U7DNS82R   \n",
       "2  0826414346        Dr. Seuss: American Icon    NaN  A3UH4UZ4RSVO82   \n",
       "3  0826414346        Dr. Seuss: American Icon    NaN  A2MVUWT453QH61   \n",
       "4  0826414346        Dr. Seuss: American Icon    NaN  A22X4XUPKF66MR   \n",
       "\n",
       "                          profileName review/helpfulness  review/score  \\\n",
       "0               Jim of Oz \"jim-of-oz\"                7/7           4.0   \n",
       "1                       Kevin Killian              10/10           5.0   \n",
       "2                        John Granger              10/11           5.0   \n",
       "3  Roy E. Perry \"amateur philosopher\"                7/7           4.0   \n",
       "4     D. H. Richards \"ninthwavestore\"                3/3           4.0   \n",
       "\n",
       "   review/time                                   review/summary  \\\n",
       "0    940636800           Nice collection of Julie Strain images   \n",
       "1   1095724800                                Really Enjoyed It   \n",
       "2   1078790400  Essential for every personal and Public Library   \n",
       "3   1090713600  Phlip Nel gives silly Seuss a serious treatment   \n",
       "4   1107993600                           Good academic overview   \n",
       "\n",
       "                                         review/text  \n",
       "0  This is only for Julie Strain fans. It's a col...  \n",
       "1  I don't care much for Dr. Seuss but after read...  \n",
       "2  If people become the books they read and if \"t...  \n",
       "3  Theodore Seuss Geisel (1904-1991), aka &quot;D...  \n",
       "4  Philip Nel - Dr. Seuss: American IconThis is b...  "
      ]
     },
     "execution_count": 2,
     "metadata": {},
     "output_type": "execute_result"
    }
   ],
   "source": [
    "# Read the file using pandas\n",
    "data = pd.read_csv(r\"C:\\Users\\krish\\Documents\\DG\\week6\\Sales_Data\\Books_rating.csv\")\n",
    "\n",
    "# Display a few rows to confirm\n",
    "data.head()"
   ]
  },
  {
   "cell_type": "code",
   "execution_count": 3,
   "id": "423a139e",
   "metadata": {},
   "outputs": [],
   "source": [
    "#We usually read files with pandas, let's see how much time does it take to load a big file.."
   ]
  },
  {
   "cell_type": "code",
   "execution_count": 4,
   "id": "9f6eb77a",
   "metadata": {},
   "outputs": [],
   "source": [
    "#\"time\" library does exactly that, by giving us the execution time for a certain code block"
   ]
  },
  {
   "cell_type": "code",
   "execution_count": 5,
   "id": "3fc15d30",
   "metadata": {},
   "outputs": [
    {
     "name": "stdout",
     "output_type": "stream",
     "text": [
      "Pandas read time: 18.91 seconds\n"
     ]
    }
   ],
   "source": [
    "import time\n",
    "\n",
    "start_time = time.time()\n",
    "data = pd.read_csv(r\"C:\\Users\\krish\\Documents\\DG\\week6\\Sales_Data\\Books_rating.csv\")\n",
    "print(f\"Pandas read time: {time.time() - start_time:.2f} seconds\")"
   ]
  },
  {
   "cell_type": "code",
   "execution_count": 6,
   "id": "15bf9a23",
   "metadata": {},
   "outputs": [],
   "source": [
    "#Around 20 seconds seems good, but why not try with different methods!"
   ]
  },
  {
   "cell_type": "code",
   "execution_count": 7,
   "id": "596c58a7",
   "metadata": {},
   "outputs": [],
   "source": [
    "#DASK"
   ]
  },
  {
   "cell_type": "code",
   "execution_count": 8,
   "id": "914cd156",
   "metadata": {},
   "outputs": [],
   "source": [
    "#pip install \"dask[complete]\"   "
   ]
  },
  {
   "cell_type": "code",
   "execution_count": 9,
   "id": "bd59f9fa",
   "metadata": {},
   "outputs": [
    {
     "name": "stdout",
     "output_type": "stream",
     "text": [
      "Dask read time: 0.02 seconds\n"
     ]
    }
   ],
   "source": [
    "import dask.dataframe as dd\n",
    "\n",
    "start_time = time.time()\n",
    "data_dask = dd.read_csv(r\"C:\\Users\\krish\\Documents\\DG\\week6\\Sales_Data\\Books_rating.csv\")\n",
    "print(f\"Dask read time: {time.time() - start_time:.2f} seconds\")"
   ]
  },
  {
   "cell_type": "code",
   "execution_count": 10,
   "id": "0c422895",
   "metadata": {},
   "outputs": [],
   "source": [
    "#well that certainly looks quite fast"
   ]
  },
  {
   "cell_type": "code",
   "execution_count": 11,
   "id": "e74eb932",
   "metadata": {},
   "outputs": [],
   "source": [
    "#let's try some other libraries"
   ]
  },
  {
   "cell_type": "code",
   "execution_count": 12,
   "id": "060468dc",
   "metadata": {},
   "outputs": [],
   "source": [
    "#MODIN"
   ]
  },
  {
   "cell_type": "code",
   "execution_count": 13,
   "id": "a88bd5c2",
   "metadata": {},
   "outputs": [],
   "source": [
    "#pip install \"modin[all]\""
   ]
  },
  {
   "cell_type": "code",
   "execution_count": 14,
   "id": "53f800c3",
   "metadata": {},
   "outputs": [
    {
     "name": "stderr",
     "output_type": "stream",
     "text": [
      "2024-09-12 18:11:08,360\tINFO worker.py:1783 -- Started a local Ray instance.\n"
     ]
    },
    {
     "name": "stdout",
     "output_type": "stream",
     "text": [
      "Modin read time: 66.49 seconds\n"
     ]
    }
   ],
   "source": [
    "import modin.pandas as mpd\n",
    "import ray\n",
    "\n",
    "ray.init()\n",
    "\n",
    "start_time = time.time()\n",
    "data_modin = mpd.read_csv(r\"C:\\Users\\krish\\Documents\\DG\\week6\\Sales_Data\\Books_rating.csv\")\n",
    "print(f\"Modin read time: {time.time() - start_time:.2f} seconds\")"
   ]
  },
  {
   "cell_type": "code",
   "execution_count": 15,
   "id": "cb7c4c21",
   "metadata": {},
   "outputs": [],
   "source": [
    "#That took usually longer than our traditional method, not good!"
   ]
  },
  {
   "cell_type": "code",
   "execution_count": 16,
   "id": "5d5af92c",
   "metadata": {},
   "outputs": [],
   "source": [
    "#RAY"
   ]
  },
  {
   "cell_type": "code",
   "execution_count": 17,
   "id": "f2465d42",
   "metadata": {},
   "outputs": [],
   "source": [
    "#pip install ray"
   ]
  },
  {
   "cell_type": "code",
   "execution_count": 18,
   "id": "43494e9a",
   "metadata": {},
   "outputs": [
    {
     "name": "stdout",
     "output_type": "stream",
     "text": [
      "Ray read time: 2.24 seconds\n"
     ]
    }
   ],
   "source": [
    "import ray.data\n",
    "\n",
    "start_time = time.time()\n",
    "data_ray = ray.data.read_csv(r\"C:\\Users\\krish\\Documents\\DG\\week6\\Sales_Data\\Books_rating.csv\")\n",
    "print(f\"Ray read time: {time.time() - start_time:.2f} seconds\")"
   ]
  },
  {
   "cell_type": "markdown",
   "id": "8fc4df67",
   "metadata": {},
   "source": [
    "Pandas: Took 20.13 seconds. It loads everything into memory, which is good for medium files but can be slower for very large files.\n",
    "\n",
    "Dask: Took just 0.02 seconds. It’s super fast because it reads data in chunks and uses lazy loading, meaning it doesn't load the file all at once.\n",
    "\n",
    "Modin: Took 60.95 seconds. Modin tries to scale Pandas operations, but it can have overhead, so it was slower in this case.\n",
    "\n",
    "Ray: Took 1.92 seconds. Ray is designed for distributed processing and performed very well, reading the file efficiently."
   ]
  },
  {
   "cell_type": "markdown",
   "id": "312c0f92",
   "metadata": {},
   "source": [
    "**Dask and Ray are the best for large files due to their parallel processing and chunking.**\n",
    "\n",
    "**Pandas is okay for smaller files but slower with larger ones.**\n",
    "\n",
    "**Modin might not always be faster due to its parallel processing overhead.**"
   ]
  },
  {
   "cell_type": "code",
   "execution_count": 19,
   "id": "a50f6727",
   "metadata": {},
   "outputs": [],
   "source": [
    "#Let's work with pandas hereon, for simplicity"
   ]
  },
  {
   "cell_type": "code",
   "execution_count": 20,
   "id": "fca73738",
   "metadata": {},
   "outputs": [
    {
     "data": {
      "text/html": [
       "<div>\n",
       "<style scoped>\n",
       "    .dataframe tbody tr th:only-of-type {\n",
       "        vertical-align: middle;\n",
       "    }\n",
       "\n",
       "    .dataframe tbody tr th {\n",
       "        vertical-align: top;\n",
       "    }\n",
       "\n",
       "    .dataframe thead th {\n",
       "        text-align: right;\n",
       "    }\n",
       "</style>\n",
       "<table border=\"1\" class=\"dataframe\">\n",
       "  <thead>\n",
       "    <tr style=\"text-align: right;\">\n",
       "      <th></th>\n",
       "      <th>Id</th>\n",
       "      <th>Title</th>\n",
       "      <th>Price</th>\n",
       "      <th>User_id</th>\n",
       "      <th>profileName</th>\n",
       "      <th>review/helpfulness</th>\n",
       "      <th>review/score</th>\n",
       "      <th>review/time</th>\n",
       "      <th>review/summary</th>\n",
       "      <th>review/text</th>\n",
       "    </tr>\n",
       "  </thead>\n",
       "  <tbody>\n",
       "    <tr>\n",
       "      <th>0</th>\n",
       "      <td>1882931173</td>\n",
       "      <td>Its Only Art If Its Well Hung!</td>\n",
       "      <td>NaN</td>\n",
       "      <td>AVCGYZL8FQQTD</td>\n",
       "      <td>Jim of Oz \"jim-of-oz\"</td>\n",
       "      <td>7/7</td>\n",
       "      <td>4.0</td>\n",
       "      <td>940636800</td>\n",
       "      <td>Nice collection of Julie Strain images</td>\n",
       "      <td>This is only for Julie Strain fans. It's a col...</td>\n",
       "    </tr>\n",
       "    <tr>\n",
       "      <th>1</th>\n",
       "      <td>0826414346</td>\n",
       "      <td>Dr. Seuss: American Icon</td>\n",
       "      <td>NaN</td>\n",
       "      <td>A30TK6U7DNS82R</td>\n",
       "      <td>Kevin Killian</td>\n",
       "      <td>10/10</td>\n",
       "      <td>5.0</td>\n",
       "      <td>1095724800</td>\n",
       "      <td>Really Enjoyed It</td>\n",
       "      <td>I don't care much for Dr. Seuss but after read...</td>\n",
       "    </tr>\n",
       "    <tr>\n",
       "      <th>2</th>\n",
       "      <td>0826414346</td>\n",
       "      <td>Dr. Seuss: American Icon</td>\n",
       "      <td>NaN</td>\n",
       "      <td>A3UH4UZ4RSVO82</td>\n",
       "      <td>John Granger</td>\n",
       "      <td>10/11</td>\n",
       "      <td>5.0</td>\n",
       "      <td>1078790400</td>\n",
       "      <td>Essential for every personal and Public Library</td>\n",
       "      <td>If people become the books they read and if \"t...</td>\n",
       "    </tr>\n",
       "    <tr>\n",
       "      <th>3</th>\n",
       "      <td>0826414346</td>\n",
       "      <td>Dr. Seuss: American Icon</td>\n",
       "      <td>NaN</td>\n",
       "      <td>A2MVUWT453QH61</td>\n",
       "      <td>Roy E. Perry \"amateur philosopher\"</td>\n",
       "      <td>7/7</td>\n",
       "      <td>4.0</td>\n",
       "      <td>1090713600</td>\n",
       "      <td>Phlip Nel gives silly Seuss a serious treatment</td>\n",
       "      <td>Theodore Seuss Geisel (1904-1991), aka &amp;quot;D...</td>\n",
       "    </tr>\n",
       "    <tr>\n",
       "      <th>4</th>\n",
       "      <td>0826414346</td>\n",
       "      <td>Dr. Seuss: American Icon</td>\n",
       "      <td>NaN</td>\n",
       "      <td>A22X4XUPKF66MR</td>\n",
       "      <td>D. H. Richards \"ninthwavestore\"</td>\n",
       "      <td>3/3</td>\n",
       "      <td>4.0</td>\n",
       "      <td>1107993600</td>\n",
       "      <td>Good academic overview</td>\n",
       "      <td>Philip Nel - Dr. Seuss: American IconThis is b...</td>\n",
       "    </tr>\n",
       "  </tbody>\n",
       "</table>\n",
       "</div>"
      ],
      "text/plain": [
       "           Id                           Title  Price         User_id  \\\n",
       "0  1882931173  Its Only Art If Its Well Hung!    NaN   AVCGYZL8FQQTD   \n",
       "1  0826414346        Dr. Seuss: American Icon    NaN  A30TK6U7DNS82R   \n",
       "2  0826414346        Dr. Seuss: American Icon    NaN  A3UH4UZ4RSVO82   \n",
       "3  0826414346        Dr. Seuss: American Icon    NaN  A2MVUWT453QH61   \n",
       "4  0826414346        Dr. Seuss: American Icon    NaN  A22X4XUPKF66MR   \n",
       "\n",
       "                          profileName review/helpfulness  review/score  \\\n",
       "0               Jim of Oz \"jim-of-oz\"                7/7           4.0   \n",
       "1                       Kevin Killian              10/10           5.0   \n",
       "2                        John Granger              10/11           5.0   \n",
       "3  Roy E. Perry \"amateur philosopher\"                7/7           4.0   \n",
       "4     D. H. Richards \"ninthwavestore\"                3/3           4.0   \n",
       "\n",
       "   review/time                                   review/summary  \\\n",
       "0    940636800           Nice collection of Julie Strain images   \n",
       "1   1095724800                                Really Enjoyed It   \n",
       "2   1078790400  Essential for every personal and Public Library   \n",
       "3   1090713600  Phlip Nel gives silly Seuss a serious treatment   \n",
       "4   1107993600                           Good academic overview   \n",
       "\n",
       "                                         review/text  \n",
       "0  This is only for Julie Strain fans. It's a col...  \n",
       "1  I don't care much for Dr. Seuss but after read...  \n",
       "2  If people become the books they read and if \"t...  \n",
       "3  Theodore Seuss Geisel (1904-1991), aka &quot;D...  \n",
       "4  Philip Nel - Dr. Seuss: American IconThis is b...  "
      ]
     },
     "execution_count": 20,
     "metadata": {},
     "output_type": "execute_result"
    }
   ],
   "source": [
    "data.head()"
   ]
  },
  {
   "cell_type": "code",
   "execution_count": 21,
   "id": "577ba2a1",
   "metadata": {},
   "outputs": [
    {
     "data": {
      "text/plain": [
       "Index(['Id', 'Title', 'Price', 'User_id', 'profileName', 'review/helpfulness',\n",
       "       'review/score', 'review/time', 'review/summary', 'review/text'],\n",
       "      dtype='object')"
      ]
     },
     "execution_count": 21,
     "metadata": {},
     "output_type": "execute_result"
    }
   ],
   "source": [
    "data.columns"
   ]
  },
  {
   "cell_type": "code",
   "execution_count": 22,
   "id": "4079f48e",
   "metadata": {},
   "outputs": [],
   "source": [
    "# Rename the columns \n",
    "data.rename(columns={\n",
    "    'User_id': 'User_ID',\n",
    "    'profileName': 'User_Name',\n",
    "    'review/helpfulness': 'review',\n",
    "    'review/score': 'score',\n",
    "    'review/time' : 'time',\n",
    "    'review/summary': 'summary',\n",
    "    'review/text': 'text'\n",
    "}, inplace=True)"
   ]
  },
  {
   "cell_type": "code",
   "execution_count": 24,
   "id": "9e48bbe1",
   "metadata": {},
   "outputs": [
    {
     "data": {
      "text/html": [
       "<div>\n",
       "<style scoped>\n",
       "    .dataframe tbody tr th:only-of-type {\n",
       "        vertical-align: middle;\n",
       "    }\n",
       "\n",
       "    .dataframe tbody tr th {\n",
       "        vertical-align: top;\n",
       "    }\n",
       "\n",
       "    .dataframe thead th {\n",
       "        text-align: right;\n",
       "    }\n",
       "</style>\n",
       "<table border=\"1\" class=\"dataframe\">\n",
       "  <thead>\n",
       "    <tr style=\"text-align: right;\">\n",
       "      <th></th>\n",
       "      <th>Id</th>\n",
       "      <th>Title</th>\n",
       "      <th>Price</th>\n",
       "      <th>User_ID</th>\n",
       "      <th>User_Name</th>\n",
       "      <th>review</th>\n",
       "      <th>score</th>\n",
       "      <th>time</th>\n",
       "      <th>summary</th>\n",
       "      <th>text</th>\n",
       "    </tr>\n",
       "  </thead>\n",
       "  <tbody>\n",
       "    <tr>\n",
       "      <th>0</th>\n",
       "      <td>1882931173</td>\n",
       "      <td>Its Only Art If Its Well Hung!</td>\n",
       "      <td>NaN</td>\n",
       "      <td>AVCGYZL8FQQTD</td>\n",
       "      <td>Jim of Oz \"jim-of-oz\"</td>\n",
       "      <td>7/7</td>\n",
       "      <td>4.0</td>\n",
       "      <td>940636800</td>\n",
       "      <td>Nice collection of Julie Strain images</td>\n",
       "      <td>This is only for Julie Strain fans. It's a col...</td>\n",
       "    </tr>\n",
       "    <tr>\n",
       "      <th>1</th>\n",
       "      <td>0826414346</td>\n",
       "      <td>Dr. Seuss: American Icon</td>\n",
       "      <td>NaN</td>\n",
       "      <td>A30TK6U7DNS82R</td>\n",
       "      <td>Kevin Killian</td>\n",
       "      <td>10/10</td>\n",
       "      <td>5.0</td>\n",
       "      <td>1095724800</td>\n",
       "      <td>Really Enjoyed It</td>\n",
       "      <td>I don't care much for Dr. Seuss but after read...</td>\n",
       "    </tr>\n",
       "    <tr>\n",
       "      <th>2</th>\n",
       "      <td>0826414346</td>\n",
       "      <td>Dr. Seuss: American Icon</td>\n",
       "      <td>NaN</td>\n",
       "      <td>A3UH4UZ4RSVO82</td>\n",
       "      <td>John Granger</td>\n",
       "      <td>10/11</td>\n",
       "      <td>5.0</td>\n",
       "      <td>1078790400</td>\n",
       "      <td>Essential for every personal and Public Library</td>\n",
       "      <td>If people become the books they read and if \"t...</td>\n",
       "    </tr>\n",
       "    <tr>\n",
       "      <th>3</th>\n",
       "      <td>0826414346</td>\n",
       "      <td>Dr. Seuss: American Icon</td>\n",
       "      <td>NaN</td>\n",
       "      <td>A2MVUWT453QH61</td>\n",
       "      <td>Roy E. Perry \"amateur philosopher\"</td>\n",
       "      <td>7/7</td>\n",
       "      <td>4.0</td>\n",
       "      <td>1090713600</td>\n",
       "      <td>Phlip Nel gives silly Seuss a serious treatment</td>\n",
       "      <td>Theodore Seuss Geisel (1904-1991), aka &amp;quot;D...</td>\n",
       "    </tr>\n",
       "    <tr>\n",
       "      <th>4</th>\n",
       "      <td>0826414346</td>\n",
       "      <td>Dr. Seuss: American Icon</td>\n",
       "      <td>NaN</td>\n",
       "      <td>A22X4XUPKF66MR</td>\n",
       "      <td>D. H. Richards \"ninthwavestore\"</td>\n",
       "      <td>3/3</td>\n",
       "      <td>4.0</td>\n",
       "      <td>1107993600</td>\n",
       "      <td>Good academic overview</td>\n",
       "      <td>Philip Nel - Dr. Seuss: American IconThis is b...</td>\n",
       "    </tr>\n",
       "  </tbody>\n",
       "</table>\n",
       "</div>"
      ],
      "text/plain": [
       "           Id                           Title  Price         User_ID  \\\n",
       "0  1882931173  Its Only Art If Its Well Hung!    NaN   AVCGYZL8FQQTD   \n",
       "1  0826414346        Dr. Seuss: American Icon    NaN  A30TK6U7DNS82R   \n",
       "2  0826414346        Dr. Seuss: American Icon    NaN  A3UH4UZ4RSVO82   \n",
       "3  0826414346        Dr. Seuss: American Icon    NaN  A2MVUWT453QH61   \n",
       "4  0826414346        Dr. Seuss: American Icon    NaN  A22X4XUPKF66MR   \n",
       "\n",
       "                            User_Name review  score        time  \\\n",
       "0               Jim of Oz \"jim-of-oz\"    7/7    4.0   940636800   \n",
       "1                       Kevin Killian  10/10    5.0  1095724800   \n",
       "2                        John Granger  10/11    5.0  1078790400   \n",
       "3  Roy E. Perry \"amateur philosopher\"    7/7    4.0  1090713600   \n",
       "4     D. H. Richards \"ninthwavestore\"    3/3    4.0  1107993600   \n",
       "\n",
       "                                           summary  \\\n",
       "0           Nice collection of Julie Strain images   \n",
       "1                                Really Enjoyed It   \n",
       "2  Essential for every personal and Public Library   \n",
       "3  Phlip Nel gives silly Seuss a serious treatment   \n",
       "4                           Good academic overview   \n",
       "\n",
       "                                                text  \n",
       "0  This is only for Julie Strain fans. It's a col...  \n",
       "1  I don't care much for Dr. Seuss but after read...  \n",
       "2  If people become the books they read and if \"t...  \n",
       "3  Theodore Seuss Geisel (1904-1991), aka &quot;D...  \n",
       "4  Philip Nel - Dr. Seuss: American IconThis is b...  "
      ]
     },
     "execution_count": 24,
     "metadata": {},
     "output_type": "execute_result"
    }
   ],
   "source": [
    "data.head()"
   ]
  },
  {
   "cell_type": "code",
   "execution_count": 25,
   "id": "6dc2d2b3",
   "metadata": {},
   "outputs": [],
   "source": [
    "data.columns = data.columns.str.replace('[^A-Za-z0-9]+', '_').str.strip()"
   ]
  },
  {
   "cell_type": "code",
   "execution_count": 28,
   "id": "872cbde4",
   "metadata": {},
   "outputs": [
    {
     "name": "stdout",
     "output_type": "stream",
     "text": [
      "Index(['Id', 'Title', 'Price', 'User_ID', 'User_Name', 'review', 'score',\n",
      "       'time', 'summary', 'text'],\n",
      "      dtype='object')\n"
     ]
    }
   ],
   "source": [
    "print(data.columns)"
   ]
  },
  {
   "cell_type": "code",
   "execution_count": 29,
   "id": "f3444bd0",
   "metadata": {},
   "outputs": [],
   "source": [
    "#Now to store schema we will use \"YAML\""
   ]
  },
  {
   "cell_type": "code",
   "execution_count": 30,
   "id": "fa9c9b53",
   "metadata": {},
   "outputs": [],
   "source": [
    "import yaml"
   ]
  },
  {
   "cell_type": "code",
   "execution_count": 31,
   "id": "e778da8c",
   "metadata": {},
   "outputs": [
    {
     "data": {
      "text/plain": [
       "<module 'yaml' from 'C:\\\\Users\\\\krish\\\\anaconda3\\\\envs\\\\notebook-6.5.7\\\\Lib\\\\site-packages\\\\yaml\\\\__init__.py'>"
      ]
     },
     "execution_count": 31,
     "metadata": {},
     "output_type": "execute_result"
    }
   ],
   "source": [
    "yaml"
   ]
  },
  {
   "cell_type": "code",
   "execution_count": 32,
   "id": "f58f5bba",
   "metadata": {},
   "outputs": [],
   "source": [
    "# Define the schema\n",
    "schema = {\n",
    "    'file': {\n",
    "        'separator': '|',\n",
    "        'columns': [\n",
    "            'Id', \n",
    "            'Title', \n",
    "            'Price', \n",
    "            'User_ID', \n",
    "            'User_Name', \n",
    "            'review', \n",
    "            'score', \n",
    "            'time', \n",
    "            'summary', \n",
    "            'text'\n",
    "        ]\n",
    "    }\n",
    "}"
   ]
  },
  {
   "cell_type": "code",
   "execution_count": 33,
   "id": "7724afa1",
   "metadata": {},
   "outputs": [
    {
     "data": {
      "text/plain": [
       "{'file': {'separator': '|',\n",
       "  'columns': ['Id',\n",
       "   'Title',\n",
       "   'Price',\n",
       "   'User_ID',\n",
       "   'User_Name',\n",
       "   'review',\n",
       "   'score',\n",
       "   'time',\n",
       "   'summary',\n",
       "   'text']}}"
      ]
     },
     "execution_count": 33,
     "metadata": {},
     "output_type": "execute_result"
    }
   ],
   "source": [
    "schema"
   ]
  },
  {
   "cell_type": "code",
   "execution_count": 34,
   "id": "438677a1",
   "metadata": {},
   "outputs": [],
   "source": [
    "# Save schema to a YAML file\n",
    "with open('schema.yaml', 'w') as file:\n",
    "    yaml.dump(schema, file)"
   ]
  },
  {
   "cell_type": "code",
   "execution_count": 35,
   "id": "49e5077a",
   "metadata": {},
   "outputs": [],
   "source": [
    "#you can see in your directory, for schema.yaml file.."
   ]
  },
  {
   "cell_type": "code",
   "execution_count": 36,
   "id": "a6e5effe",
   "metadata": {},
   "outputs": [],
   "source": [
    "#Let's validate the integrity of the saved yaml file"
   ]
  },
  {
   "cell_type": "code",
   "execution_count": 37,
   "id": "f1ba3850",
   "metadata": {},
   "outputs": [],
   "source": [
    "# Load the YAML schema\n",
    "with open('schema.yaml', 'r') as file:\n",
    "    schema = yaml.safe_load(file)"
   ]
  },
  {
   "cell_type": "code",
   "execution_count": 43,
   "id": "1b7177ce",
   "metadata": {},
   "outputs": [
    {
     "data": {
      "text/plain": [
       "True"
      ]
     },
     "execution_count": 43,
     "metadata": {},
     "output_type": "execute_result"
    }
   ],
   "source": [
    "len(data.columns) == len(schema['file']['columns'])"
   ]
  },
  {
   "cell_type": "code",
   "execution_count": 44,
   "id": "2d0444c8",
   "metadata": {},
   "outputs": [
    {
     "data": {
      "text/plain": [
       "[]"
      ]
     },
     "execution_count": 44,
     "metadata": {},
     "output_type": "execute_result"
    }
   ],
   "source": [
    "[col for col in data.columns if col not in schema['file']['columns']]"
   ]
  },
  {
   "cell_type": "code",
   "execution_count": null,
   "id": "c326434b",
   "metadata": {},
   "outputs": [],
   "source": [
    "#No mismatched column names"
   ]
  },
  {
   "cell_type": "code",
   "execution_count": 39,
   "id": "2f858c38",
   "metadata": {},
   "outputs": [
    {
     "name": "stdout",
     "output_type": "stream",
     "text": [
      "{'file': {'columns': ['Id', 'Title', 'Price', 'User_ID', 'User_Name', 'review', 'score', 'time', 'summary', 'text'], 'separator': '|'}}\n"
     ]
    }
   ],
   "source": [
    "print(schema)"
   ]
  },
  {
   "cell_type": "code",
   "execution_count": 41,
   "id": "03496285",
   "metadata": {},
   "outputs": [
    {
     "name": "stdout",
     "output_type": "stream",
     "text": [
      "Index(['Id', 'Title', 'Price', 'User_ID', 'User_Name', 'review', 'score',\n",
      "       'time', 'summary', 'text'],\n",
      "      dtype='object')\n"
     ]
    }
   ],
   "source": [
    "print(data.columns)"
   ]
  },
  {
   "cell_type": "code",
   "execution_count": 42,
   "id": "0402819c",
   "metadata": {},
   "outputs": [],
   "source": [
    "#Yah well everything seems correct!"
   ]
  },
  {
   "cell_type": "code",
   "execution_count": 45,
   "id": "68acf60a",
   "metadata": {},
   "outputs": [],
   "source": [
    "#Write the DataFrame to a pipe-separated text file"
   ]
  },
  {
   "cell_type": "code",
   "execution_count": 46,
   "id": "681cefbe",
   "metadata": {},
   "outputs": [],
   "source": [
    "output_file = 'Books_rating.txt.gz'"
   ]
  },
  {
   "cell_type": "code",
   "execution_count": 47,
   "id": "c4e432cc",
   "metadata": {},
   "outputs": [],
   "source": [
    "data.to_csv(output_file, sep='|', compression='gzip', index=False)"
   ]
  },
  {
   "cell_type": "code",
   "execution_count": 48,
   "id": "c4b9c208",
   "metadata": {},
   "outputs": [],
   "source": [
    "#Just in case"
   ]
  },
  {
   "cell_type": "code",
   "execution_count": 49,
   "id": "f3658a6f",
   "metadata": {},
   "outputs": [],
   "source": [
    "df = pd.read_csv(output_file, sep='|', compression='gzip')"
   ]
  },
  {
   "cell_type": "code",
   "execution_count": 50,
   "id": "71fab8e8",
   "metadata": {},
   "outputs": [
    {
     "data": {
      "text/html": [
       "<div>\n",
       "<style scoped>\n",
       "    .dataframe tbody tr th:only-of-type {\n",
       "        vertical-align: middle;\n",
       "    }\n",
       "\n",
       "    .dataframe tbody tr th {\n",
       "        vertical-align: top;\n",
       "    }\n",
       "\n",
       "    .dataframe thead th {\n",
       "        text-align: right;\n",
       "    }\n",
       "</style>\n",
       "<table border=\"1\" class=\"dataframe\">\n",
       "  <thead>\n",
       "    <tr style=\"text-align: right;\">\n",
       "      <th></th>\n",
       "      <th>Id</th>\n",
       "      <th>Title</th>\n",
       "      <th>Price</th>\n",
       "      <th>User_ID</th>\n",
       "      <th>User_Name</th>\n",
       "      <th>review</th>\n",
       "      <th>score</th>\n",
       "      <th>time</th>\n",
       "      <th>summary</th>\n",
       "      <th>text</th>\n",
       "    </tr>\n",
       "  </thead>\n",
       "  <tbody>\n",
       "    <tr>\n",
       "      <th>0</th>\n",
       "      <td>1882931173</td>\n",
       "      <td>Its Only Art If Its Well Hung!</td>\n",
       "      <td>NaN</td>\n",
       "      <td>AVCGYZL8FQQTD</td>\n",
       "      <td>Jim of Oz \"jim-of-oz\"</td>\n",
       "      <td>7/7</td>\n",
       "      <td>4.0</td>\n",
       "      <td>940636800</td>\n",
       "      <td>Nice collection of Julie Strain images</td>\n",
       "      <td>This is only for Julie Strain fans. It's a col...</td>\n",
       "    </tr>\n",
       "    <tr>\n",
       "      <th>1</th>\n",
       "      <td>0826414346</td>\n",
       "      <td>Dr. Seuss: American Icon</td>\n",
       "      <td>NaN</td>\n",
       "      <td>A30TK6U7DNS82R</td>\n",
       "      <td>Kevin Killian</td>\n",
       "      <td>10/10</td>\n",
       "      <td>5.0</td>\n",
       "      <td>1095724800</td>\n",
       "      <td>Really Enjoyed It</td>\n",
       "      <td>I don't care much for Dr. Seuss but after read...</td>\n",
       "    </tr>\n",
       "    <tr>\n",
       "      <th>2</th>\n",
       "      <td>0826414346</td>\n",
       "      <td>Dr. Seuss: American Icon</td>\n",
       "      <td>NaN</td>\n",
       "      <td>A3UH4UZ4RSVO82</td>\n",
       "      <td>John Granger</td>\n",
       "      <td>10/11</td>\n",
       "      <td>5.0</td>\n",
       "      <td>1078790400</td>\n",
       "      <td>Essential for every personal and Public Library</td>\n",
       "      <td>If people become the books they read and if \"t...</td>\n",
       "    </tr>\n",
       "    <tr>\n",
       "      <th>3</th>\n",
       "      <td>0826414346</td>\n",
       "      <td>Dr. Seuss: American Icon</td>\n",
       "      <td>NaN</td>\n",
       "      <td>A2MVUWT453QH61</td>\n",
       "      <td>Roy E. Perry \"amateur philosopher\"</td>\n",
       "      <td>7/7</td>\n",
       "      <td>4.0</td>\n",
       "      <td>1090713600</td>\n",
       "      <td>Phlip Nel gives silly Seuss a serious treatment</td>\n",
       "      <td>Theodore Seuss Geisel (1904-1991), aka &amp;quot;D...</td>\n",
       "    </tr>\n",
       "    <tr>\n",
       "      <th>4</th>\n",
       "      <td>0826414346</td>\n",
       "      <td>Dr. Seuss: American Icon</td>\n",
       "      <td>NaN</td>\n",
       "      <td>A22X4XUPKF66MR</td>\n",
       "      <td>D. H. Richards \"ninthwavestore\"</td>\n",
       "      <td>3/3</td>\n",
       "      <td>4.0</td>\n",
       "      <td>1107993600</td>\n",
       "      <td>Good academic overview</td>\n",
       "      <td>Philip Nel - Dr. Seuss: American IconThis is b...</td>\n",
       "    </tr>\n",
       "    <tr>\n",
       "      <th>...</th>\n",
       "      <td>...</td>\n",
       "      <td>...</td>\n",
       "      <td>...</td>\n",
       "      <td>...</td>\n",
       "      <td>...</td>\n",
       "      <td>...</td>\n",
       "      <td>...</td>\n",
       "      <td>...</td>\n",
       "      <td>...</td>\n",
       "      <td>...</td>\n",
       "    </tr>\n",
       "    <tr>\n",
       "      <th>2999995</th>\n",
       "      <td>B000NSLVCU</td>\n",
       "      <td>The Idea of History</td>\n",
       "      <td>NaN</td>\n",
       "      <td>NaN</td>\n",
       "      <td>NaN</td>\n",
       "      <td>14/19</td>\n",
       "      <td>4.0</td>\n",
       "      <td>937612800</td>\n",
       "      <td>Difficult</td>\n",
       "      <td>This is an extremely difficult book to digest,...</td>\n",
       "    </tr>\n",
       "    <tr>\n",
       "      <th>2999996</th>\n",
       "      <td>B000NSLVCU</td>\n",
       "      <td>The Idea of History</td>\n",
       "      <td>NaN</td>\n",
       "      <td>A1SMUB9ASL5L9Y</td>\n",
       "      <td>jafrank</td>\n",
       "      <td>1/1</td>\n",
       "      <td>4.0</td>\n",
       "      <td>1331683200</td>\n",
       "      <td>Quite good and ahead of its time occasionally</td>\n",
       "      <td>This is pretty interesting. Collingwood seems ...</td>\n",
       "    </tr>\n",
       "    <tr>\n",
       "      <th>2999997</th>\n",
       "      <td>B000NSLVCU</td>\n",
       "      <td>The Idea of History</td>\n",
       "      <td>NaN</td>\n",
       "      <td>A2AQMEKZKK5EE4</td>\n",
       "      <td>L. L. Poulos \"Muslim Mom\"</td>\n",
       "      <td>0/0</td>\n",
       "      <td>4.0</td>\n",
       "      <td>1180224000</td>\n",
       "      <td>Easier reads of those not well versed in histo...</td>\n",
       "      <td>This is a good book but very esoteric. \"What i...</td>\n",
       "    </tr>\n",
       "    <tr>\n",
       "      <th>2999998</th>\n",
       "      <td>B000NSLVCU</td>\n",
       "      <td>The Idea of History</td>\n",
       "      <td>NaN</td>\n",
       "      <td>A18SQGYBKS852K</td>\n",
       "      <td>Julia A. Klein \"knitting rat\"</td>\n",
       "      <td>1/11</td>\n",
       "      <td>5.0</td>\n",
       "      <td>1163030400</td>\n",
       "      <td>Yes, it is cheaper than the University Bookstore</td>\n",
       "      <td>My daughter, a freshman at Indiana University,...</td>\n",
       "    </tr>\n",
       "    <tr>\n",
       "      <th>2999999</th>\n",
       "      <td>B000NSLVCU</td>\n",
       "      <td>The Idea of History</td>\n",
       "      <td>NaN</td>\n",
       "      <td>NaN</td>\n",
       "      <td>NaN</td>\n",
       "      <td>7/49</td>\n",
       "      <td>1.0</td>\n",
       "      <td>905385600</td>\n",
       "      <td>Collingwood's ideas sink in a quagmire or verb...</td>\n",
       "      <td>The guy has a few good ideas but, reader, bewa...</td>\n",
       "    </tr>\n",
       "  </tbody>\n",
       "</table>\n",
       "<p>3000000 rows × 10 columns</p>\n",
       "</div>"
      ],
      "text/plain": [
       "                 Id                           Title  Price         User_ID  \\\n",
       "0        1882931173  Its Only Art If Its Well Hung!    NaN   AVCGYZL8FQQTD   \n",
       "1        0826414346        Dr. Seuss: American Icon    NaN  A30TK6U7DNS82R   \n",
       "2        0826414346        Dr. Seuss: American Icon    NaN  A3UH4UZ4RSVO82   \n",
       "3        0826414346        Dr. Seuss: American Icon    NaN  A2MVUWT453QH61   \n",
       "4        0826414346        Dr. Seuss: American Icon    NaN  A22X4XUPKF66MR   \n",
       "...             ...                             ...    ...             ...   \n",
       "2999995  B000NSLVCU             The Idea of History    NaN             NaN   \n",
       "2999996  B000NSLVCU             The Idea of History    NaN  A1SMUB9ASL5L9Y   \n",
       "2999997  B000NSLVCU             The Idea of History    NaN  A2AQMEKZKK5EE4   \n",
       "2999998  B000NSLVCU             The Idea of History    NaN  A18SQGYBKS852K   \n",
       "2999999  B000NSLVCU             The Idea of History    NaN             NaN   \n",
       "\n",
       "                                  User_Name review  score        time  \\\n",
       "0                     Jim of Oz \"jim-of-oz\"    7/7    4.0   940636800   \n",
       "1                             Kevin Killian  10/10    5.0  1095724800   \n",
       "2                              John Granger  10/11    5.0  1078790400   \n",
       "3        Roy E. Perry \"amateur philosopher\"    7/7    4.0  1090713600   \n",
       "4           D. H. Richards \"ninthwavestore\"    3/3    4.0  1107993600   \n",
       "...                                     ...    ...    ...         ...   \n",
       "2999995                                 NaN  14/19    4.0   937612800   \n",
       "2999996                             jafrank    1/1    4.0  1331683200   \n",
       "2999997           L. L. Poulos \"Muslim Mom\"    0/0    4.0  1180224000   \n",
       "2999998       Julia A. Klein \"knitting rat\"   1/11    5.0  1163030400   \n",
       "2999999                                 NaN   7/49    1.0   905385600   \n",
       "\n",
       "                                                   summary  \\\n",
       "0                   Nice collection of Julie Strain images   \n",
       "1                                        Really Enjoyed It   \n",
       "2          Essential for every personal and Public Library   \n",
       "3          Phlip Nel gives silly Seuss a serious treatment   \n",
       "4                                   Good academic overview   \n",
       "...                                                    ...   \n",
       "2999995                                          Difficult   \n",
       "2999996      Quite good and ahead of its time occasionally   \n",
       "2999997  Easier reads of those not well versed in histo...   \n",
       "2999998   Yes, it is cheaper than the University Bookstore   \n",
       "2999999  Collingwood's ideas sink in a quagmire or verb...   \n",
       "\n",
       "                                                      text  \n",
       "0        This is only for Julie Strain fans. It's a col...  \n",
       "1        I don't care much for Dr. Seuss but after read...  \n",
       "2        If people become the books they read and if \"t...  \n",
       "3        Theodore Seuss Geisel (1904-1991), aka &quot;D...  \n",
       "4        Philip Nel - Dr. Seuss: American IconThis is b...  \n",
       "...                                                    ...  \n",
       "2999995  This is an extremely difficult book to digest,...  \n",
       "2999996  This is pretty interesting. Collingwood seems ...  \n",
       "2999997  This is a good book but very esoteric. \"What i...  \n",
       "2999998  My daughter, a freshman at Indiana University,...  \n",
       "2999999  The guy has a few good ideas but, reader, bewa...  \n",
       "\n",
       "[3000000 rows x 10 columns]"
      ]
     },
     "execution_count": 50,
     "metadata": {},
     "output_type": "execute_result"
    }
   ],
   "source": [
    "df"
   ]
  },
  {
   "cell_type": "code",
   "execution_count": 51,
   "id": "f9c45925",
   "metadata": {},
   "outputs": [],
   "source": [
    "#Everything seems correct!"
   ]
  },
  {
   "cell_type": "code",
   "execution_count": 53,
   "id": "c9c488c2",
   "metadata": {},
   "outputs": [
    {
     "data": {
      "text/plain": [
       "(3000000, 10)"
      ]
     },
     "execution_count": 53,
     "metadata": {},
     "output_type": "execute_result"
    }
   ],
   "source": [
    "data.shape"
   ]
  },
  {
   "cell_type": "code",
   "execution_count": 52,
   "id": "d8d2e490",
   "metadata": {},
   "outputs": [
    {
     "data": {
      "text/plain": [
       "(3000000, 10)"
      ]
     },
     "execution_count": 52,
     "metadata": {},
     "output_type": "execute_result"
    }
   ],
   "source": [
    "df.shape"
   ]
  },
  {
   "cell_type": "code",
   "execution_count": 55,
   "id": "f8d2a3e5",
   "metadata": {},
   "outputs": [],
   "source": [
    "import os"
   ]
  },
  {
   "cell_type": "code",
   "execution_count": 59,
   "id": "9644f08c",
   "metadata": {},
   "outputs": [
    {
     "name": "stdout",
     "output_type": "stream",
     "text": [
      "Total number of rows: 3000000\n",
      "Total number of columns: 10\n",
      "File size: 0.986 GB\n"
     ]
    }
   ],
   "source": [
    "# Print the summary\n",
    "print(f\"Total number of rows: {df.shape[0]}\")\n",
    "print(f\"Total number of columns: {df.shape[1]}\")\n",
    "print(f\"File size: {round(os.path.getsize(output_file) / (1024 * 1024 * 1024), 3)} GB\")"
   ]
  },
  {
   "cell_type": "code",
   "execution_count": null,
   "id": "d4c48154",
   "metadata": {},
   "outputs": [],
   "source": []
  }
 ],
 "metadata": {
  "kernelspec": {
   "display_name": "Python 3 (ipykernel)",
   "language": "python",
   "name": "python3"
  },
  "language_info": {
   "codemirror_mode": {
    "name": "ipython",
    "version": 3
   },
   "file_extension": ".py",
   "mimetype": "text/x-python",
   "name": "python",
   "nbconvert_exporter": "python",
   "pygments_lexer": "ipython3",
   "version": "3.11.9"
  }
 },
 "nbformat": 4,
 "nbformat_minor": 5
}
